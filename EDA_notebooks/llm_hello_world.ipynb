{
 "cells": [
  {
   "cell_type": "code",
   "execution_count": 1,
   "id": "afd8873e",
   "metadata": {},
   "outputs": [],
   "source": [
    "# !pip install python-dotenv\n",
    "# !pip install -q -U google-generativeai"
   ]
  },
  {
   "cell_type": "code",
   "execution_count": 11,
   "id": "b072f821",
   "metadata": {},
   "outputs": [],
   "source": [
    "from dotenv import load_dotenv\n",
    "import os\n",
    "import google.generativeai as genai\n",
    "import textwrap"
   ]
  },
  {
   "cell_type": "code",
   "execution_count": 3,
   "id": "ab97943e",
   "metadata": {},
   "outputs": [
    {
     "name": "stdout",
     "output_type": "stream",
     "text": [
      "True\n"
     ]
    }
   ],
   "source": [
    "print(load_dotenv())\n",
    "genai.configure(api_key=os.environ[\"GEMINI_API_KEY\"])"
   ]
  },
  {
   "cell_type": "code",
   "execution_count": 4,
   "id": "6d66909a",
   "metadata": {},
   "outputs": [
    {
     "name": "stderr",
     "output_type": "stream",
     "text": [
      "WARNING: All log messages before absl::InitializeLog() is called are written to STDERR\n",
      "E0000 00:00:1760052271.054370 10188164 alts_credentials.cc:93] ALTS creds ignored. Not running on GCP and untrusted ALTS is not enabled.\n"
     ]
    },
    {
     "name": "stdout",
     "output_type": "stream",
     "text": [
      "Name: models/embedding-gecko-001, Display Name: Embedding Gecko\n",
      "Name: models/gemini-2.5-pro-preview-03-25, Display Name: Gemini 2.5 Pro Preview 03-25\n",
      "Name: models/gemini-2.5-flash-preview-05-20, Display Name: Gemini 2.5 Flash Preview 05-20\n",
      "Name: models/gemini-2.5-flash, Display Name: Gemini 2.5 Flash\n",
      "Name: models/gemini-2.5-flash-lite-preview-06-17, Display Name: Gemini 2.5 Flash-Lite Preview 06-17\n",
      "Name: models/gemini-2.5-pro-preview-05-06, Display Name: Gemini 2.5 Pro Preview 05-06\n",
      "Name: models/gemini-2.5-pro-preview-06-05, Display Name: Gemini 2.5 Pro Preview\n",
      "Name: models/gemini-2.5-pro, Display Name: Gemini 2.5 Pro\n",
      "Name: models/gemini-2.0-flash-exp, Display Name: Gemini 2.0 Flash Experimental\n",
      "Name: models/gemini-2.0-flash, Display Name: Gemini 2.0 Flash\n",
      "Name: models/gemini-2.0-flash-001, Display Name: Gemini 2.0 Flash 001\n",
      "Name: models/gemini-2.0-flash-exp-image-generation, Display Name: Gemini 2.0 Flash (Image Generation) Experimental\n",
      "Name: models/gemini-2.0-flash-lite-001, Display Name: Gemini 2.0 Flash-Lite 001\n",
      "Name: models/gemini-2.0-flash-lite, Display Name: Gemini 2.0 Flash-Lite\n",
      "Name: models/gemini-2.0-flash-preview-image-generation, Display Name: Gemini 2.0 Flash Preview Image Generation\n",
      "Name: models/gemini-2.0-flash-lite-preview-02-05, Display Name: Gemini 2.0 Flash-Lite Preview 02-05\n",
      "Name: models/gemini-2.0-flash-lite-preview, Display Name: Gemini 2.0 Flash-Lite Preview\n",
      "Name: models/gemini-2.0-pro-exp, Display Name: Gemini 2.0 Pro Experimental\n",
      "Name: models/gemini-2.0-pro-exp-02-05, Display Name: Gemini 2.0 Pro Experimental 02-05\n",
      "Name: models/gemini-exp-1206, Display Name: Gemini Experimental 1206\n",
      "Name: models/gemini-2.0-flash-thinking-exp-01-21, Display Name: Gemini 2.5 Flash Preview 05-20\n",
      "Name: models/gemini-2.0-flash-thinking-exp, Display Name: Gemini 2.5 Flash Preview 05-20\n",
      "Name: models/gemini-2.0-flash-thinking-exp-1219, Display Name: Gemini 2.5 Flash Preview 05-20\n",
      "Name: models/gemini-2.5-flash-preview-tts, Display Name: Gemini 2.5 Flash Preview TTS\n",
      "Name: models/gemini-2.5-pro-preview-tts, Display Name: Gemini 2.5 Pro Preview TTS\n",
      "Name: models/learnlm-2.0-flash-experimental, Display Name: LearnLM 2.0 Flash Experimental\n",
      "Name: models/gemma-3-1b-it, Display Name: Gemma 3 1B\n",
      "Name: models/gemma-3-4b-it, Display Name: Gemma 3 4B\n",
      "Name: models/gemma-3-12b-it, Display Name: Gemma 3 12B\n",
      "Name: models/gemma-3-27b-it, Display Name: Gemma 3 27B\n",
      "Name: models/gemma-3n-e4b-it, Display Name: Gemma 3n E4B\n",
      "Name: models/gemma-3n-e2b-it, Display Name: Gemma 3n E2B\n",
      "Name: models/gemini-flash-latest, Display Name: Gemini Flash Latest\n",
      "Name: models/gemini-flash-lite-latest, Display Name: Gemini Flash-Lite Latest\n",
      "Name: models/gemini-pro-latest, Display Name: Gemini Pro Latest\n",
      "Name: models/gemini-2.5-flash-lite, Display Name: Gemini 2.5 Flash-Lite\n",
      "Name: models/gemini-2.5-flash-image-preview, Display Name: Nano Banana\n",
      "Name: models/gemini-2.5-flash-image, Display Name: Nano Banana\n",
      "Name: models/gemini-2.5-flash-preview-09-2025, Display Name: Gemini 2.5 Flash Preview Sep 2025\n",
      "Name: models/gemini-2.5-flash-lite-preview-09-2025, Display Name: Gemini 2.5 Flash-Lite Preview Sep 2025\n",
      "Name: models/gemini-robotics-er-1.5-preview, Display Name: Gemini Robotics-ER 1.5 Preview\n",
      "Name: models/gemini-2.5-computer-use-preview-10-2025, Display Name: Gemini 2.5 Computer Use Preview 10-2025\n",
      "Name: models/embedding-001, Display Name: Embedding 001\n",
      "Name: models/text-embedding-004, Display Name: Text Embedding 004\n",
      "Name: models/gemini-embedding-exp-03-07, Display Name: Gemini Embedding Experimental 03-07\n",
      "Name: models/gemini-embedding-exp, Display Name: Gemini Embedding Experimental\n",
      "Name: models/gemini-embedding-001, Display Name: Gemini Embedding 001\n",
      "Name: models/aqa, Display Name: Model that performs Attributed Question Answering.\n",
      "Name: models/imagen-3.0-generate-002, Display Name: Imagen 3.0\n",
      "Name: models/imagen-4.0-generate-preview-06-06, Display Name: Imagen 4 (Preview)\n",
      "Name: models/imagen-4.0-ultra-generate-preview-06-06, Display Name: Imagen 4 Ultra (Preview)\n",
      "Name: models/imagen-4.0-generate-001, Display Name: Imagen 4\n",
      "Name: models/imagen-4.0-ultra-generate-001, Display Name: Imagen 4 Ultra\n",
      "Name: models/imagen-4.0-fast-generate-001, Display Name: Imagen 4 Fast\n",
      "Name: models/veo-2.0-generate-001, Display Name: Veo 2\n",
      "Name: models/veo-3.0-generate-preview, Display Name: Veo 3\n",
      "Name: models/veo-3.0-fast-generate-preview, Display Name: Veo 3 fast\n",
      "Name: models/veo-3.0-generate-001, Display Name: Veo 3\n",
      "Name: models/veo-3.0-fast-generate-001, Display Name: Veo 3 fast\n",
      "Name: models/gemini-2.5-flash-preview-native-audio-dialog, Display Name: Gemini 2.5 Flash Preview Native Audio Dialog\n",
      "Name: models/gemini-2.5-flash-exp-native-audio-thinking-dialog, Display Name: Gemini 2.5 Flash Exp Native Audio Thinking Dialog\n",
      "Name: models/gemini-2.0-flash-live-001, Display Name: Gemini 2.0 Flash 001\n",
      "Name: models/gemini-live-2.5-flash-preview, Display Name: Gemini Live 2.5 Flash Preview\n",
      "Name: models/gemini-2.5-flash-live-preview, Display Name: Gemini 2.5 Flash Live Preview\n",
      "Name: models/gemini-2.5-flash-native-audio-latest, Display Name: Gemini 2.5 Flash Native Audio Latest\n",
      "Name: models/gemini-2.5-flash-native-audio-preview-09-2025, Display Name: Gemini 2.5 Flash Native Audio Preview 09-2025\n"
     ]
    }
   ],
   "source": [
    "for model in genai.list_models():\n",
    "    print(f\"Name: {model.name}, Display Name: {model.display_name}\")"
   ]
  },
  {
   "cell_type": "code",
   "execution_count": 5,
   "id": "7070dccb",
   "metadata": {},
   "outputs": [],
   "source": [
    "model = genai.GenerativeModel('gemini-2.5-pro-preview-03-25')"
   ]
  },
  {
   "cell_type": "code",
   "execution_count": 6,
   "id": "1f6883ee",
   "metadata": {},
   "outputs": [],
   "source": [
    "text_to_summarize = \"\"\"\n",
    "Machine learning is a subset of artificial intelligence (AI) that focuses on building systems that learn from data. Instead of being explicitly programmed, these systems identify patterns and make decisions based on the data they've been trained on. There are several types of machine learning, including supervised learning, unsupervised learning, and reinforcement learning. Supervised learning involves training models on labeled datasets, where the desired output is known. Unsupervised learning, on the other hand, deals with unlabeled data, aiming to discover hidden patterns or structures. Reinforcement learning trains agents to make sequences of decisions in an environment to maximize a reward signal. Machine learning has revolutionized various fields, from image recognition and natural language processing to medical diagnosis and financial forecasting.\n",
    "\"\"\""
   ]
  },
  {
   "cell_type": "code",
   "execution_count": 12,
   "id": "2f9c256b",
   "metadata": {},
   "outputs": [],
   "source": [
    "def print_long_text(long_text):\n",
    "    for line in textwrap.wrap(long_text, width=80):\n",
    "        print(line)"
   ]
  },
  {
   "cell_type": "code",
   "execution_count": 9,
   "id": "adddf6dc",
   "metadata": {},
   "outputs": [],
   "source": [
    "prompt = f\"Please summarize the following text:\\n\\n{text_to_summarize}\"\n",
    "response = model.generate_content(prompt)"
   ]
  },
  {
   "cell_type": "code",
   "execution_count": 13,
   "id": "6dd2f6eb",
   "metadata": {},
   "outputs": [
    {
     "name": "stdout",
     "output_type": "stream",
     "text": [
      "Original Text:\n",
      " Machine learning is a subset of artificial intelligence (AI) that focuses on\n",
      "building systems that learn from data. Instead of being explicitly programmed,\n",
      "these systems identify patterns and make decisions based on the data they've\n",
      "been trained on. There are several types of machine learning, including\n",
      "supervised learning, unsupervised learning, and reinforcement learning.\n",
      "Supervised learning involves training models on labeled datasets, where the\n",
      "desired output is known. Unsupervised learning, on the other hand, deals with\n",
      "unlabeled data, aiming to discover hidden patterns or structures. Reinforcement\n",
      "learning trains agents to make sequences of decisions in an environment to\n",
      "maximize a reward signal. Machine learning has revolutionized various fields,\n",
      "from image recognition and natural language processing to medical diagnosis and\n",
      "financial forecasting.\n",
      "\n",
      "--- Summary ---\n",
      "Based on the text provided, here is a summary:  Machine learning is a type of\n",
      "artificial intelligence (AI) where systems learn from data to identify patterns\n",
      "and make decisions, rather than being explicitly programmed. The main types\n",
      "include **supervised learning** (using labeled data), **unsupervised learning**\n",
      "(finding patterns in unlabeled data), and **reinforcement learning** (learning\n",
      "through rewards). This technology has had a major impact on various fields,\n",
      "including image recognition, medical diagnosis, and finance.\n"
     ]
    }
   ],
   "source": [
    "print(\"Original Text:\")\n",
    "print_long_text(text_to_summarize)\n",
    "print(\"\\n--- Summary ---\")\n",
    "print_long_text(response.text)"
   ]
  },
  {
   "cell_type": "code",
   "execution_count": null,
   "id": "bddaac28",
   "metadata": {},
   "outputs": [],
   "source": []
  }
 ],
 "metadata": {
  "kernelspec": {
   "display_name": "dw",
   "language": "python",
   "name": "python3"
  },
  "language_info": {
   "codemirror_mode": {
    "name": "ipython",
    "version": 3
   },
   "file_extension": ".py",
   "mimetype": "text/x-python",
   "name": "python",
   "nbconvert_exporter": "python",
   "pygments_lexer": "ipython3",
   "version": "3.12.11"
  }
 },
 "nbformat": 4,
 "nbformat_minor": 5
}
