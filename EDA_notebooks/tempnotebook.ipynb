{
 "cells": [
  {
   "cell_type": "code",
   "execution_count": null,
   "id": "044d73fd",
   "metadata": {},
   "outputs": [],
   "source": [
    "import os\n",
    "\n",
    "os.environ[\"GOOGLE_APPLICATION_CREDENTIALS\"] = (\n",
    "    f\"/Users/{os.environ['USER']}/secrets/dosewise-473716-9f4874e812d6.json\"\n",
    ")"
   ]
  },
  {
   "cell_type": "code",
   "execution_count": 63,
   "id": "ba8a1131",
   "metadata": {},
   "outputs": [
    {
     "name": "stdout",
     "output_type": "stream",
     "text": [
      "Loading latest file: hemodyn_table/2025-10-07-09-16-52/hemodyn_table.parquet\n",
      "Successfully loaded data with shape: (1866721, 7)\n",
      "\n",
      "First few rows:\n",
      "    id      ART    ECG_II      PLETH  CO2  PHEN_RATE  time\n",
      "0  513      NaN       NaN        NaN  NaN        NaN     1\n",
      "1  513  5.01471  0.622872  30.839600  0.0        NaN     2\n",
      "2  513  5.01471  0.741367  74.682701  0.0        NaN     3\n",
      "3  513  5.01471  0.069896  37.554298  0.0        NaN     4\n",
      "4  513  5.01471  0.198266  54.933601  0.0        NaN     5\n"
     ]
    }
   ],
   "source": [
    "from google.cloud import storage\n",
    "import pandas as pd\n",
    "\n",
    "bucket_name = \"dosewisedb\"\n",
    "table_prefix = \"hemodyn_table/\"\n",
    "\n",
    "client = storage.Client()\n",
    "bucket = client.bucket(bucket_name)\n",
    "\n",
    "# List all blobs in the hemodyn_table directory\n",
    "blobs = list(bucket.list_blobs(prefix=table_prefix))\n",
    "\n",
    "# Filter for parquet files and sort by name (timestamps are in the path)\n",
    "parquet_files = [blob.name for blob in blobs if blob.name.endswith(\".parquet\")]\n",
    "\n",
    "if not parquet_files:\n",
    "    raise FileNotFoundError(f\"No parquet files found in {table_prefix}\")\n",
    "\n",
    "# Sort to get the latest (timestamps are chronologically sortable)\n",
    "latest_file = sorted(parquet_files)[-1]\n",
    "\n",
    "print(f\"Loading latest file: {latest_file}\")\n",
    "\n",
    "# Directly read from GCS\n",
    "df = pd.read_parquet(f\"gs://{bucket_name}/{latest_file}\")\n",
    "print(f\"Successfully loaded data with shape: {df.shape}\")\n",
    "print(\"\\nFirst few rows:\")\n",
    "print(df.head())"
   ]
  },
  {
   "cell_type": "code",
   "execution_count": 64,
   "id": "90c6412c",
   "metadata": {},
   "outputs": [
    {
     "data": {
      "text/plain": [
       "array([ 513, 3585, 4618,  527, 6160,   20, 5142, 6166,   28, 3107, 5670,\n",
       "       4149,   61, 1094, 5204, 2134, 2147, 1133, 1647, 4729, 3711, 5760,\n",
       "       2693, 6281, 4749, 6292, 3736, 5787,  163, 5302,  185, 5311, 5826,\n",
       "       5827, 2765, 3277, 1745, 3800, 3803, 3293, 4317, 1759,  230,  233,\n",
       "        746, 4333, 3824,  241, 4337, 5875, 6388, 5368,  252, 3840,  769,\n",
       "       3843, 1799, 2824, 4871, 1803, 1297, 3857, 1814, 3357, 4388,  293,\n",
       "       1320, 1849, 1341,  853, 1367, 4953, 1375, 2400,  865,  354, 4962,\n",
       "        375, 5497, 5516, 1934, 1936, 1941, 6043, 5534,  936, 5043, 4024,\n",
       "       4541,  451, 3538, 1492, 5593, 4072, 5608, 1004, 6124, 1520,  497,\n",
       "       6131, 6134, 5626, 3582])"
      ]
     },
     "execution_count": 64,
     "metadata": {},
     "output_type": "execute_result"
    }
   ],
   "source": [
    "ids = df[\"id\"].unique()\n",
    "ids"
   ]
  },
  {
   "cell_type": "code",
   "execution_count": 69,
   "id": "b84f13e5",
   "metadata": {},
   "outputs": [
    {
     "data": {
      "text/html": [
       "<div>\n",
       "<style scoped>\n",
       "    .dataframe tbody tr th:only-of-type {\n",
       "        vertical-align: middle;\n",
       "    }\n",
       "\n",
       "    .dataframe tbody tr th {\n",
       "        vertical-align: top;\n",
       "    }\n",
       "\n",
       "    .dataframe thead th {\n",
       "        text-align: right;\n",
       "    }\n",
       "</style>\n",
       "<table border=\"1\" class=\"dataframe\">\n",
       "  <thead>\n",
       "    <tr style=\"text-align: right;\">\n",
       "      <th></th>\n",
       "      <th>id</th>\n",
       "      <th>ART</th>\n",
       "      <th>ECG_II</th>\n",
       "      <th>PLETH</th>\n",
       "      <th>CO2</th>\n",
       "      <th>PHEN_RATE</th>\n",
       "      <th>time</th>\n",
       "    </tr>\n",
       "  </thead>\n",
       "  <tbody>\n",
       "    <tr>\n",
       "      <th>12322</th>\n",
       "      <td>3585</td>\n",
       "      <td>-495.626007</td>\n",
       "      <td>-4.956260</td>\n",
       "      <td>-198.250000</td>\n",
       "      <td>0.0</td>\n",
       "      <td>0.0</td>\n",
       "      <td>12323</td>\n",
       "    </tr>\n",
       "    <tr>\n",
       "      <th>12323</th>\n",
       "      <td>3585</td>\n",
       "      <td>-495.626007</td>\n",
       "      <td>-4.956260</td>\n",
       "      <td>-198.250000</td>\n",
       "      <td>0.0</td>\n",
       "      <td>0.0</td>\n",
       "      <td>12324</td>\n",
       "    </tr>\n",
       "    <tr>\n",
       "      <th>12324</th>\n",
       "      <td>3585</td>\n",
       "      <td>-16.709299</td>\n",
       "      <td>-0.255965</td>\n",
       "      <td>49.008801</td>\n",
       "      <td>0.0</td>\n",
       "      <td>0.0</td>\n",
       "      <td>12325</td>\n",
       "    </tr>\n",
       "    <tr>\n",
       "      <th>12325</th>\n",
       "      <td>3585</td>\n",
       "      <td>-16.709299</td>\n",
       "      <td>-0.463331</td>\n",
       "      <td>32.419601</td>\n",
       "      <td>0.0</td>\n",
       "      <td>0.0</td>\n",
       "      <td>12326</td>\n",
       "    </tr>\n",
       "    <tr>\n",
       "      <th>12326</th>\n",
       "      <td>3585</td>\n",
       "      <td>-16.709299</td>\n",
       "      <td>-0.038724</td>\n",
       "      <td>48.613899</td>\n",
       "      <td>0.0</td>\n",
       "      <td>0.0</td>\n",
       "      <td>12327</td>\n",
       "    </tr>\n",
       "    <tr>\n",
       "      <th>12327</th>\n",
       "      <td>3585</td>\n",
       "      <td>-16.709299</td>\n",
       "      <td>-0.334961</td>\n",
       "      <td>33.209499</td>\n",
       "      <td>0.0</td>\n",
       "      <td>0.0</td>\n",
       "      <td>12328</td>\n",
       "    </tr>\n",
       "    <tr>\n",
       "      <th>12328</th>\n",
       "      <td>3585</td>\n",
       "      <td>-16.709299</td>\n",
       "      <td>-0.374459</td>\n",
       "      <td>27.679800</td>\n",
       "      <td>0.0</td>\n",
       "      <td>0.0</td>\n",
       "      <td>12329</td>\n",
       "    </tr>\n",
       "    <tr>\n",
       "      <th>12329</th>\n",
       "      <td>3585</td>\n",
       "      <td>-16.709299</td>\n",
       "      <td>-0.631198</td>\n",
       "      <td>47.033901</td>\n",
       "      <td>0.0</td>\n",
       "      <td>0.0</td>\n",
       "      <td>12330</td>\n",
       "    </tr>\n",
       "    <tr>\n",
       "      <th>12330</th>\n",
       "      <td>3585</td>\n",
       "      <td>-16.709299</td>\n",
       "      <td>-0.631198</td>\n",
       "      <td>31.234600</td>\n",
       "      <td>0.0</td>\n",
       "      <td>0.0</td>\n",
       "      <td>12331</td>\n",
       "    </tr>\n",
       "    <tr>\n",
       "      <th>12331</th>\n",
       "      <td>3585</td>\n",
       "      <td>-16.709299</td>\n",
       "      <td>-0.641073</td>\n",
       "      <td>31.234600</td>\n",
       "      <td>0.0</td>\n",
       "      <td>0.0</td>\n",
       "      <td>12332</td>\n",
       "    </tr>\n",
       "  </tbody>\n",
       "</table>\n",
       "</div>"
      ],
      "text/plain": [
       "         id         ART    ECG_II       PLETH  CO2  PHEN_RATE   time\n",
       "12322  3585 -495.626007 -4.956260 -198.250000  0.0        0.0  12323\n",
       "12323  3585 -495.626007 -4.956260 -198.250000  0.0        0.0  12324\n",
       "12324  3585  -16.709299 -0.255965   49.008801  0.0        0.0  12325\n",
       "12325  3585  -16.709299 -0.463331   32.419601  0.0        0.0  12326\n",
       "12326  3585  -16.709299 -0.038724   48.613899  0.0        0.0  12327\n",
       "12327  3585  -16.709299 -0.334961   33.209499  0.0        0.0  12328\n",
       "12328  3585  -16.709299 -0.374459   27.679800  0.0        0.0  12329\n",
       "12329  3585  -16.709299 -0.631198   47.033901  0.0        0.0  12330\n",
       "12330  3585  -16.709299 -0.631198   31.234600  0.0        0.0  12331\n",
       "12331  3585  -16.709299 -0.641073   31.234600  0.0        0.0  12332"
      ]
     },
     "execution_count": 69,
     "metadata": {},
     "output_type": "execute_result"
    }
   ],
   "source": [
    "df[df[\"id\"] == ids[1]].head(10)"
   ]
  },
  {
   "cell_type": "code",
   "execution_count": 65,
   "id": "8d7f22e0",
   "metadata": {},
   "outputs": [],
   "source": [
    "# Missing data imputation\n",
    "df[\"ART\"] = df.groupby(\"id\")[\"ART\"].transform(lambda x: x.ffill().bfill())\n",
    "df[\"ECG_II\"] = df.groupby(\"id\")[\"ECG_II\"].transform(lambda x: x.ffill().bfill())\n",
    "df[\"PLETH\"] = df.groupby(\"id\")[\"PLETH\"].transform(lambda x: x.ffill().bfill())\n",
    "df[\"CO2\"] = df.groupby(\"id\")[\"CO2\"].transform(lambda x: x.ffill().bfill())\n",
    "df[\"PHEN_RATE\"] = df.groupby(\"id\")[\"PHEN_RATE\"].transform(lambda x: x.fillna(0))"
   ]
  },
  {
   "cell_type": "code",
   "execution_count": null,
   "id": "a0e96e89",
   "metadata": {},
   "outputs": [
    {
     "data": {
      "text/plain": [
       "18750    18751\n",
       "18751    18752\n",
       "18752    18753\n",
       "18753    18754\n",
       "18754    18755\n",
       "         ...  \n",
       "34417    34418\n",
       "34418    34419\n",
       "34419    34420\n",
       "34420    34421\n",
       "34421    34422\n",
       "Name: time, Length: 15672, dtype: int64"
      ]
     },
     "execution_count": 68,
     "metadata": {},
     "output_type": "execute_result"
    }
   ],
   "source": [
    "df[df[\"id\"] == ids[2]][\"time\"]"
   ]
  },
  {
   "cell_type": "code",
   "execution_count": 67,
   "id": "eaa9ba32",
   "metadata": {},
   "outputs": [
    {
     "data": {
      "text/plain": [
       "18750   -4.85986\n",
       "18751   -4.85986\n",
       "18752   -4.85986\n",
       "18753   -4.85986\n",
       "18754   -4.85986\n",
       "          ...   \n",
       "34417    5.01471\n",
       "34418    6.00217\n",
       "34419    5.01471\n",
       "34420    5.01471\n",
       "34421    5.01471\n",
       "Name: ART, Length: 15672, dtype: float64"
      ]
     },
     "execution_count": 67,
     "metadata": {},
     "output_type": "execute_result"
    }
   ],
   "source": [
    "df[df[\"id\"] == ids[2]][\"ART\"]"
   ]
  },
  {
   "cell_type": "code",
   "execution_count": 60,
   "id": "9e935f9c",
   "metadata": {},
   "outputs": [
    {
     "data": {
      "text/plain": [
       "<Axes: title={'center': 'Hampel Filter Example'}>"
      ]
     },
     "execution_count": 60,
     "metadata": {},
     "output_type": "execute_result"
    },
    {
     "data": {
      "image/png": "[encoded data removed]",
      "text/plain": [
       "<Figure size 640x480 with 1 Axes>"
      ]
     },
     "metadata": {},
     "output_type": "display_data"
    }
   ],
   "source": [
    "cleaned_ts.plot(title=\"Hampel Filter Example\")"
   ]
  },
  {
   "cell_type": "code",
   "execution_count": 71,
   "id": "1d471be4",
   "metadata": {},
   "outputs": [],
   "source": [
    "import vitaldb\n",
    "from tqdm import tqdm"
   ]
  },
  {
   "cell_type": "code",
   "execution_count": 72,
   "id": "c02c0555",
   "metadata": {},
   "outputs": [
    {
     "name": "stdout",
     "output_type": "stream",
     "text": [
      "Number of cases found: 103\n"
     ]
    },
    {
     "name": "stderr",
     "output_type": "stream",
     "text": [
      "100%|██████████| 103/103 [12:26<00:00,  7.25s/it]\n"
     ]
    }
   ],
   "source": [
    "features = [\"ART\", \"ECG_II\", \"PLETH\", \"CO2\", \"PHEN_RATE\"]\n",
    "cases = vitaldb.find_cases(features)\n",
    "print(\"Number of cases found:\", len(cases))\n",
    "\n",
    "values_for_all_cases = {}\n",
    "for case in tqdm(cases):\n",
    "    vals = vitaldb.load_case(case, features, interval=1)\n",
    "    values_for_all_cases[case] = vals\n",
    "\n",
    "rows = []\n",
    "for case_id, arr in values_for_all_cases.items():\n",
    "    # arr should be ordered in time; enumerate will give 1,2,3,... per case\n",
    "    for t_idx, row in enumerate(arr, start=1):\n",
    "        rows.append([case_id, t_idx] + list(row))\n",
    "\n",
    "# DataFrame with time per id\n",
    "df = pd.DataFrame(rows, columns=[\"id\", \"time\"] + features)\n",
    "\n",
    "# Ensure sorted by id,time and reset index\n",
    "df = df.sort_values([\"id\", \"time\"]).reset_index(drop=True)"
   ]
  },
  {
   "cell_type": "code",
   "execution_count": 75,
   "id": "65262a41",
   "metadata": {},
   "outputs": [
    {
     "data": {
      "text/html": [
       "<div>\n",
       "<style scoped>\n",
       "    .dataframe tbody tr th:only-of-type {\n",
       "        vertical-align: middle;\n",
       "    }\n",
       "\n",
       "    .dataframe tbody tr th {\n",
       "        vertical-align: top;\n",
       "    }\n",
       "\n",
       "    .dataframe thead th {\n",
       "        text-align: right;\n",
       "    }\n",
       "</style>\n",
       "<table border=\"1\" class=\"dataframe\">\n",
       "  <thead>\n",
       "    <tr style=\"text-align: right;\">\n",
       "      <th></th>\n",
       "      <th>id</th>\n",
       "      <th>time</th>\n",
       "      <th>ART</th>\n",
       "      <th>ECG_II</th>\n",
       "      <th>PLETH</th>\n",
       "      <th>CO2</th>\n",
       "      <th>PHEN_RATE</th>\n",
       "    </tr>\n",
       "  </thead>\n",
       "  <tbody>\n",
       "    <tr>\n",
       "      <th>1155166</th>\n",
       "      <td>4618</td>\n",
       "      <td>1</td>\n",
       "      <td>NaN</td>\n",
       "      <td>NaN</td>\n",
       "      <td>NaN</td>\n",
       "      <td>0.0</td>\n",
       "      <td>NaN</td>\n",
       "    </tr>\n",
       "    <tr>\n",
       "      <th>1155167</th>\n",
       "      <td>4618</td>\n",
       "      <td>2</td>\n",
       "      <td>NaN</td>\n",
       "      <td>NaN</td>\n",
       "      <td>NaN</td>\n",
       "      <td>0.0</td>\n",
       "      <td>NaN</td>\n",
       "    </tr>\n",
       "    <tr>\n",
       "      <th>1155168</th>\n",
       "      <td>4618</td>\n",
       "      <td>3</td>\n",
       "      <td>NaN</td>\n",
       "      <td>NaN</td>\n",
       "      <td>NaN</td>\n",
       "      <td>0.0</td>\n",
       "      <td>NaN</td>\n",
       "    </tr>\n",
       "    <tr>\n",
       "      <th>1155169</th>\n",
       "      <td>4618</td>\n",
       "      <td>4</td>\n",
       "      <td>NaN</td>\n",
       "      <td>NaN</td>\n",
       "      <td>NaN</td>\n",
       "      <td>0.0</td>\n",
       "      <td>NaN</td>\n",
       "    </tr>\n",
       "    <tr>\n",
       "      <th>1155170</th>\n",
       "      <td>4618</td>\n",
       "      <td>5</td>\n",
       "      <td>-4.85986</td>\n",
       "      <td>-0.334961</td>\n",
       "      <td>1.21592</td>\n",
       "      <td>0.0</td>\n",
       "      <td>NaN</td>\n",
       "    </tr>\n",
       "    <tr>\n",
       "      <th>...</th>\n",
       "      <td>...</td>\n",
       "      <td>...</td>\n",
       "      <td>...</td>\n",
       "      <td>...</td>\n",
       "      <td>...</td>\n",
       "      <td>...</td>\n",
       "      <td>...</td>\n",
       "    </tr>\n",
       "    <tr>\n",
       "      <th>1170833</th>\n",
       "      <td>4618</td>\n",
       "      <td>15668</td>\n",
       "      <td>5.01471</td>\n",
       "      <td>0.050147</td>\n",
       "      <td>1.61090</td>\n",
       "      <td>0.9</td>\n",
       "      <td>NaN</td>\n",
       "    </tr>\n",
       "    <tr>\n",
       "      <th>1170834</th>\n",
       "      <td>4618</td>\n",
       "      <td>15669</td>\n",
       "      <td>6.00217</td>\n",
       "      <td>0.060022</td>\n",
       "      <td>1.61090</td>\n",
       "      <td>0.9</td>\n",
       "      <td>NaN</td>\n",
       "    </tr>\n",
       "    <tr>\n",
       "      <th>1170835</th>\n",
       "      <td>4618</td>\n",
       "      <td>15670</td>\n",
       "      <td>5.01471</td>\n",
       "      <td>0.050147</td>\n",
       "      <td>1.61090</td>\n",
       "      <td>0.9</td>\n",
       "      <td>NaN</td>\n",
       "    </tr>\n",
       "    <tr>\n",
       "      <th>1170836</th>\n",
       "      <td>4618</td>\n",
       "      <td>15671</td>\n",
       "      <td>5.01471</td>\n",
       "      <td>0.050147</td>\n",
       "      <td>1.61090</td>\n",
       "      <td>1.0</td>\n",
       "      <td>NaN</td>\n",
       "    </tr>\n",
       "    <tr>\n",
       "      <th>1170837</th>\n",
       "      <td>4618</td>\n",
       "      <td>15672</td>\n",
       "      <td>NaN</td>\n",
       "      <td>NaN</td>\n",
       "      <td>NaN</td>\n",
       "      <td>NaN</td>\n",
       "      <td>NaN</td>\n",
       "    </tr>\n",
       "  </tbody>\n",
       "</table>\n",
       "<p>15672 rows × 7 columns</p>\n",
       "</div>"
      ],
      "text/plain": [
       "           id   time      ART    ECG_II    PLETH  CO2  PHEN_RATE\n",
       "1155166  4618      1      NaN       NaN      NaN  0.0        NaN\n",
       "1155167  4618      2      NaN       NaN      NaN  0.0        NaN\n",
       "1155168  4618      3      NaN       NaN      NaN  0.0        NaN\n",
       "1155169  4618      4      NaN       NaN      NaN  0.0        NaN\n",
       "1155170  4618      5 -4.85986 -0.334961  1.21592  0.0        NaN\n",
       "...       ...    ...      ...       ...      ...  ...        ...\n",
       "1170833  4618  15668  5.01471  0.050147  1.61090  0.9        NaN\n",
       "1170834  4618  15669  6.00217  0.060022  1.61090  0.9        NaN\n",
       "1170835  4618  15670  5.01471  0.050147  1.61090  0.9        NaN\n",
       "1170836  4618  15671  5.01471  0.050147  1.61090  1.0        NaN\n",
       "1170837  4618  15672      NaN       NaN      NaN  NaN        NaN\n",
       "\n",
       "[15672 rows x 7 columns]"
      ]
     },
     "execution_count": 75,
     "metadata": {},
     "output_type": "execute_result"
    }
   ],
   "source": [
    "df[df[\"id\"] == ids[2]]"
   ]
  },
  {
   "cell_type": "code",
   "execution_count": null,
   "id": "467e2034",
   "metadata": {},
   "outputs": [],
   "source": []
  }
 ],
 "metadata": {
  "kernelspec": {
   "display_name": "cs109b",
   "language": "python",
   "name": "python3"
  },
  "language_info": {
   "codemirror_mode": {
    "name": "ipython",
    "version": 3
   },
   "file_extension": ".py",
   "mimetype": "text/x-python",
   "name": "python",
   "nbconvert_exporter": "python",
   "pygments_lexer": "ipython3",
   "version": "3.12.8"
  }
 },
 "nbformat": 4,
 "nbformat_minor": 5
}
