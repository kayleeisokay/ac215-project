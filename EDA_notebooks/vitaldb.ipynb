{
 "cells": [
  {
   "cell_type": "code",
   "execution_count": 1,
   "id": "25092f52",
   "metadata": {},
   "outputs": [],
   "source": [
    "# !pip install vitaldb"
   ]
  },
  {
   "cell_type": "code",
   "execution_count": 2,
   "id": "31a73e64",
   "metadata": {},
   "outputs": [],
   "source": [
    "import vitaldb\n",
    "import matplotlib.pyplot as plt\n",
    "import os"
   ]
  },
  {
   "cell_type": "markdown",
   "id": "592ffd2e",
   "metadata": {},
   "source": [
    "## Get the Union of Cases"
   ]
  },
  {
   "cell_type": "code",
   "execution_count": 3,
   "id": "11cd4167",
   "metadata": {},
   "outputs": [
    {
     "name": "stdout",
     "output_type": "stream",
     "text": [
      "Finding cases with features:  ['ART', 'ECG_II', 'PLETH', 'CO2', 'PHEN_RATE']\n",
      "Number of cases found:  103\n",
      "Finding cases with features:  ['ART', 'ECG_II', 'PLETH', 'CO2', 'NEPI_RATE']\n",
      "Number of cases found:  61\n",
      "Finding cases with features:  ['ART', 'ECG_II', 'PLETH', 'CO2', 'VASO_RATE']\n",
      "Number of cases found:  1\n"
     ]
    }
   ],
   "source": [
    "# outcome: ART (Arterial pressure wave)\n",
    "# features: ECG_II, PLETH, CO2\n",
    "\n",
    "# phenylephrine, vasopressin, epinephrine\n",
    "# optimal control variables are: PHEN_RATE, NEPI_RATE, VASO_RATE\n",
    "\n",
    "optimal_control_vars = [\"PHEN_RATE\", \"NEPI_RATE\", \"VASO_RATE\"]\n",
    "all_cases = []\n",
    "\n",
    "features = [\"ART\", \"ECG_II\", \"PLETH\", \"CO2\"]\n",
    "\n",
    "for var in optimal_control_vars:\n",
    "    features.append(var)\n",
    "    print(\"Finding cases with features: \", features)\n",
    "    all_cases.append(vitaldb.find_cases(features))\n",
    "    print(\"Number of cases found: \", len(all_cases[-1]))\n",
    "    features.remove(var)"
   ]
  },
  {
   "cell_type": "code",
   "execution_count": 4,
   "id": "0333ca2f",
   "metadata": {},
   "outputs": [],
   "source": [
    "# Union the cases\n",
    "all_cases = list(set().union(*all_cases))"
   ]
  },
  {
   "cell_type": "code",
   "execution_count": 5,
   "id": "c2aa727e",
   "metadata": {},
   "outputs": [
    {
     "name": "stdout",
     "output_type": "stream",
     "text": [
      "Total cases:  159\n",
      "Sample of cases:  [513, 3585, 1537, 521, 4618, 527, 6160, 17, 20, 5142]\n"
     ]
    }
   ],
   "source": [
    "print(\"Total cases: \", len(all_cases))\n",
    "print(\"Sample of cases: \", all_cases[:10])"
   ]
  },
  {
   "cell_type": "code",
   "execution_count": 6,
   "id": "50cea856",
   "metadata": {},
   "outputs": [
    {
     "name": "stdout",
     "output_type": "stream",
     "text": [
      "Number of cases found:  103\n"
     ]
    }
   ],
   "source": [
    "# For now we'll just use PHEN_RATE\n",
    "\n",
    "features = [\"ART\", \"ECG_II\", \"PLETH\", \"CO2\", \"PHEN_RATE\"]\n",
    "cases = vitaldb.find_cases(features)\n",
    "print(\"Number of cases found: \", len(cases))"
   ]
  },
  {
   "cell_type": "markdown",
   "id": "bca42ddf",
   "metadata": {},
   "source": [
    "## Table: Hemodynamics\n",
    "- Time series"
   ]
  },
  {
   "cell_type": "code",
   "execution_count": 7,
   "id": "fec1b960",
   "metadata": {},
   "outputs": [
    {
     "name": "stdout",
     "output_type": "stream",
     "text": [
      "Feature set: ['ART', 'ECG_II', 'PLETH', 'CO2', 'PHEN_RATE']\n"
     ]
    }
   ],
   "source": [
    "print(f\"Feature set: {features}\")"
   ]
  },
  {
   "cell_type": "code",
   "execution_count": null,
   "id": "3dc16ea6",
   "metadata": {},
   "outputs": [
    {
     "name": "stderr",
     "output_type": "stream",
     "text": [
      " 91%|█████████▏| 94/103 [2:33:31<4:15:11, 1701.31s/it]"
     ]
    }
   ],
   "source": [
    "# 1/100 is 0.01 sec interval = 100 Hz sampling rate\n",
    "# 1 is 1 sec interval = 1 Hz sampling rate\n",
    "from tqdm import tqdm\n",
    "\n",
    "values_for_all_cases = {}\n",
    "\n",
    "for case in tqdm(cases):\n",
    "    vals = vitaldb.load_case(case, features, interval=1)\n",
    "    values_for_all_cases[case] = vals"
   ]
  },
  {
   "cell_type": "code",
   "execution_count": null,
   "id": "2ccbe15e",
   "metadata": {},
   "outputs": [],
   "source": [
    "# to pandas dataframe\n",
    "# check null value\n",
    "import pandas as pd\n",
    "\n",
    "rows = []\n",
    "for k, arr in values_for_all_cases.items():\n",
    "    for row in arr:\n",
    "        rows.append([k] + list(row))\n",
    "\n",
    "df = pd.DataFrame(rows, columns=[\"id\"] + features)\n",
    "print(df.head())"
   ]
  },
  {
   "cell_type": "code",
   "execution_count": null,
   "id": "f6aa5dcb",
   "metadata": {},
   "outputs": [],
   "source": [
    "print(\"Percentage of missing values per column:\")\n",
    "(df.isna().sum() / len(df)) * 100"
   ]
  },
  {
   "cell_type": "code",
   "execution_count": null,
   "id": "291a94aa",
   "metadata": {},
   "outputs": [],
   "source": [
    "# add time column\n",
    "time = [i + 1 for i in range(len(df))]\n",
    "df[\"time\"] = time"
   ]
  },
  {
   "cell_type": "markdown",
   "id": "34b777cd",
   "metadata": {},
   "source": []
  },
  {
   "cell_type": "code",
   "execution_count": null,
   "id": "2deedcfb",
   "metadata": {},
   "outputs": [],
   "source": [
    "# take a only a subset of time series for easier visualization\n",
    "subset_df = df[df[\"id\"] == cases[0]]\n",
    "subset_df = subset_df[subset_df[\"time\"] <= 300]  # first 5 minutes"
   ]
  },
  {
   "cell_type": "code",
   "execution_count": null,
   "id": "a2a7dd51",
   "metadata": {},
   "outputs": [],
   "source": [
    "ecg = subset_df[\"ECG_II\"]\n",
    "art = subset_df[\"ART\"]\n",
    "co2 = subset_df[\"CO2\"]\n",
    "phen_rate = subset_df[\"PHEN_RATE\"]\n",
    "pleth = subset_df[\"PLETH\"]"
   ]
  },
  {
   "cell_type": "code",
   "execution_count": null,
   "id": "d23690f8",
   "metadata": {},
   "outputs": [],
   "source": [
    "fig, ax = plt.subplots(5, 1, figsize=(15, 10), sharex=True)\n",
    "\n",
    "ax[0].plot(ecg, color=\"tab:blue\")\n",
    "ax[0].set_title(\"ECG_II\")\n",
    "ax[0].set_ylabel(\"mV\")\n",
    "ax[0].grid()\n",
    "\n",
    "ax[1].plot(art, color=\"tab:orange\")\n",
    "ax[1].set_title(\"ART\")\n",
    "ax[1].set_ylabel(\"mmHg\")\n",
    "ax[1].grid()\n",
    "\n",
    "ax[2].plot(co2, color=\"tab:green\")\n",
    "ax[2].set_title(\"CO2\")\n",
    "ax[2].set_ylabel(\"mmHg\")\n",
    "ax[2].grid()\n",
    "\n",
    "ax[3].plot(pleth, color=\"tab:red\")\n",
    "ax[3].set_title(\"PLETH\")\n",
    "ax[3].set_ylabel(\"unitless\")\n",
    "ax[3].grid()\n",
    "\n",
    "ax[4].plot(phen_rate, color=\"tab:purple\")\n",
    "ax[4].set_title(\"PHEN_RATE\")\n",
    "ax[4].set_ylabel(\"mL/hr\")\n",
    "ax[4].grid()\n",
    "\n",
    "plt.show()"
   ]
  },
  {
   "cell_type": "code",
   "execution_count": null,
   "id": "a81c6142",
   "metadata": {},
   "outputs": [],
   "source": [
    "# https://kb.databricks.com/libraries/pyarrow-hotfix-breaking-change\n",
    "os.environ[\"DATABRICKS_DISABLE_AUTO_PYARROW_HOTFIX\"] = \"True\""
   ]
  },
  {
   "cell_type": "code",
   "execution_count": null,
   "id": "2700c547",
   "metadata": {},
   "outputs": [],
   "source": [
    "# df.to_csv(\"vitaldb_all_cases.csv\", index=False)\n",
    "df.to_parquet(\n",
    "    \"./tables/hemodyn_table.parquet\",\n",
    "    index=False,\n",
    ")"
   ]
  },
  {
   "cell_type": "markdown",
   "id": "cc46e6bb",
   "metadata": {},
   "source": [
    "## Table: Clinical Information"
   ]
  },
  {
   "cell_type": "code",
   "execution_count": 6,
   "id": "9f48fde8",
   "metadata": {},
   "outputs": [],
   "source": [
    "import vitaldb\n",
    "import pandas as pd\n",
    "import requests\n",
    "from io import StringIO\n",
    "\n",
    "features = [\"ART\", \"ECG_II\", \"PLETH\", \"CO2\", \"PHEN_RATE\"]\n",
    "cases = vitaldb.find_cases(features)\n",
    "\n",
    "# URL for the clinical cases\n",
    "url = \"https://api.vitaldb.net/cases\"\n",
    "\n",
    "resp = requests.get(url)\n",
    "resp.raise_for_status()\n",
    "\n",
    "# The response is a gzipped CSV. VitalDB docs say it's CSV compressed with gzip\n",
    "# But requests will give you the raw bytes; if it's compressed, decompress, or\n",
    "# alternatively, use pandas read_csv with compression\n",
    "\n",
    "# Decode the bytes into text\n",
    "csv_text = resp.content.decode(\"utf-8-sig\")\n",
    "\n",
    "# Read as plain CSV\n",
    "cases_df = pd.read_csv(StringIO(csv_text))\n",
    "cases_df = cases_df[cases_df[\"caseid\"].isin(cases)].head()\n",
    "\n",
    "# cases_df.to_csv(\"vitaldb_clinical_info.csv\", index=False)\n",
    "# cases_df.to_parquet(\"./tables/clinic_table.parquet\", index=False)"
   ]
  },
  {
   "cell_type": "code",
   "execution_count": 7,
   "id": "f043a566",
   "metadata": {},
   "outputs": [
    {
     "data": {
      "text/html": [
       "<div>\n",
       "<style scoped>\n",
       "    .dataframe tbody tr th:only-of-type {\n",
       "        vertical-align: middle;\n",
       "    }\n",
       "\n",
       "    .dataframe tbody tr th {\n",
       "        vertical-align: top;\n",
       "    }\n",
       "\n",
       "    .dataframe thead th {\n",
       "        text-align: right;\n",
       "    }\n",
       "</style>\n",
       "<table border=\"1\" class=\"dataframe\">\n",
       "  <thead>\n",
       "    <tr style=\"text-align: right;\">\n",
       "      <th></th>\n",
       "      <th>caseid</th>\n",
       "      <th>subjectid</th>\n",
       "      <th>casestart</th>\n",
       "      <th>caseend</th>\n",
       "      <th>anestart</th>\n",
       "      <th>aneend</th>\n",
       "      <th>opstart</th>\n",
       "      <th>opend</th>\n",
       "      <th>adm</th>\n",
       "      <th>dis</th>\n",
       "      <th>...</th>\n",
       "      <th>intraop_colloid</th>\n",
       "      <th>intraop_ppf</th>\n",
       "      <th>intraop_mdz</th>\n",
       "      <th>intraop_ftn</th>\n",
       "      <th>intraop_rocu</th>\n",
       "      <th>intraop_vecu</th>\n",
       "      <th>intraop_eph</th>\n",
       "      <th>intraop_phe</th>\n",
       "      <th>intraop_epi</th>\n",
       "      <th>intraop_ca</th>\n",
       "    </tr>\n",
       "  </thead>\n",
       "  <tbody>\n",
       "    <tr>\n",
       "      <th>19</th>\n",
       "      <td>20</td>\n",
       "      <td>2419</td>\n",
       "      <td>0</td>\n",
       "      <td>26476</td>\n",
       "      <td>86</td>\n",
       "      <td>27086.0</td>\n",
       "      <td>3386</td>\n",
       "      <td>25875</td>\n",
       "      <td>-822780</td>\n",
       "      <td>1164420</td>\n",
       "      <td>...</td>\n",
       "      <td>500</td>\n",
       "      <td>0</td>\n",
       "      <td>0.0</td>\n",
       "      <td>0</td>\n",
       "      <td>180</td>\n",
       "      <td>0</td>\n",
       "      <td>5</td>\n",
       "      <td>250</td>\n",
       "      <td>0</td>\n",
       "      <td>600</td>\n",
       "    </tr>\n",
       "    <tr>\n",
       "      <th>27</th>\n",
       "      <td>28</td>\n",
       "      <td>2782</td>\n",
       "      <td>0</td>\n",
       "      <td>26902</td>\n",
       "      <td>-258</td>\n",
       "      <td>27162.0</td>\n",
       "      <td>2862</td>\n",
       "      <td>25662</td>\n",
       "      <td>-131220</td>\n",
       "      <td>646380</td>\n",
       "      <td>...</td>\n",
       "      <td>500</td>\n",
       "      <td>0</td>\n",
       "      <td>0.0</td>\n",
       "      <td>0</td>\n",
       "      <td>170</td>\n",
       "      <td>0</td>\n",
       "      <td>0</td>\n",
       "      <td>400</td>\n",
       "      <td>0</td>\n",
       "      <td>0</td>\n",
       "    </tr>\n",
       "    <tr>\n",
       "      <th>60</th>\n",
       "      <td>61</td>\n",
       "      <td>2402</td>\n",
       "      <td>0</td>\n",
       "      <td>9291</td>\n",
       "      <td>-1425</td>\n",
       "      <td>9075.0</td>\n",
       "      <td>1875</td>\n",
       "      <td>8175</td>\n",
       "      <td>-133980</td>\n",
       "      <td>384420</td>\n",
       "      <td>...</td>\n",
       "      <td>0</td>\n",
       "      <td>90</td>\n",
       "      <td>0.0</td>\n",
       "      <td>0</td>\n",
       "      <td>60</td>\n",
       "      <td>0</td>\n",
       "      <td>15</td>\n",
       "      <td>60</td>\n",
       "      <td>0</td>\n",
       "      <td>0</td>\n",
       "    </tr>\n",
       "    <tr>\n",
       "      <th>162</th>\n",
       "      <td>163</td>\n",
       "      <td>3131</td>\n",
       "      <td>0</td>\n",
       "      <td>4969</td>\n",
       "      <td>-366</td>\n",
       "      <td>4134.0</td>\n",
       "      <td>1734</td>\n",
       "      <td>3834</td>\n",
       "      <td>-2148660</td>\n",
       "      <td>5800140</td>\n",
       "      <td>...</td>\n",
       "      <td>0</td>\n",
       "      <td>0</td>\n",
       "      <td>0.0</td>\n",
       "      <td>0</td>\n",
       "      <td>80</td>\n",
       "      <td>0</td>\n",
       "      <td>0</td>\n",
       "      <td>500</td>\n",
       "      <td>0</td>\n",
       "      <td>0</td>\n",
       "    </tr>\n",
       "    <tr>\n",
       "      <th>184</th>\n",
       "      <td>185</td>\n",
       "      <td>5793</td>\n",
       "      <td>0</td>\n",
       "      <td>12997</td>\n",
       "      <td>-349</td>\n",
       "      <td>12851.0</td>\n",
       "      <td>3251</td>\n",
       "      <td>11771</td>\n",
       "      <td>-52500</td>\n",
       "      <td>984300</td>\n",
       "      <td>...</td>\n",
       "      <td>0</td>\n",
       "      <td>110</td>\n",
       "      <td>0.0</td>\n",
       "      <td>100</td>\n",
       "      <td>120</td>\n",
       "      <td>0</td>\n",
       "      <td>0</td>\n",
       "      <td>30</td>\n",
       "      <td>0</td>\n",
       "      <td>0</td>\n",
       "    </tr>\n",
       "  </tbody>\n",
       "</table>\n",
       "<p>5 rows × 74 columns</p>\n",
       "</div>"
      ],
      "text/plain": [
       "     caseid  subjectid  casestart  caseend  anestart   aneend  opstart  opend  \\\n",
       "19       20       2419          0    26476        86  27086.0     3386  25875   \n",
       "27       28       2782          0    26902      -258  27162.0     2862  25662   \n",
       "60       61       2402          0     9291     -1425   9075.0     1875   8175   \n",
       "162     163       3131          0     4969      -366   4134.0     1734   3834   \n",
       "184     185       5793          0    12997      -349  12851.0     3251  11771   \n",
       "\n",
       "         adm      dis  ...  intraop_colloid  intraop_ppf  intraop_mdz  \\\n",
       "19   -822780  1164420  ...              500            0          0.0   \n",
       "27   -131220   646380  ...              500            0          0.0   \n",
       "60   -133980   384420  ...                0           90          0.0   \n",
       "162 -2148660  5800140  ...                0            0          0.0   \n",
       "184   -52500   984300  ...                0          110          0.0   \n",
       "\n",
       "    intraop_ftn  intraop_rocu  intraop_vecu  intraop_eph  intraop_phe  \\\n",
       "19            0           180             0            5          250   \n",
       "27            0           170             0            0          400   \n",
       "60            0            60             0           15           60   \n",
       "162           0            80             0            0          500   \n",
       "184         100           120             0            0           30   \n",
       "\n",
       "     intraop_epi intraop_ca  \n",
       "19             0        600  \n",
       "27             0          0  \n",
       "60             0          0  \n",
       "162            0          0  \n",
       "184            0          0  \n",
       "\n",
       "[5 rows x 74 columns]"
      ]
     },
     "execution_count": 7,
     "metadata": {},
     "output_type": "execute_result"
    }
   ],
   "source": [
    "cases_df"
   ]
  },
  {
   "cell_type": "markdown",
   "id": "173594e7",
   "metadata": {},
   "source": [
    "## Table: Lab Results"
   ]
  },
  {
   "cell_type": "code",
   "execution_count": 8,
   "id": "7327b805",
   "metadata": {},
   "outputs": [],
   "source": [
    "import pandas as pd\n",
    "import requests\n",
    "from io import StringIO\n",
    "\n",
    "# URL for the clinical cases\n",
    "url = \"https://api.vitaldb.net/labs\"\n",
    "\n",
    "resp = requests.get(url)\n",
    "resp.raise_for_status()\n",
    "\n",
    "# The response is a gzipped CSV. VitalDB docs say it's CSV compressed with gzip\n",
    "# But requests will give you the raw bytes; if it's compressed, decompress, or\n",
    "# alternatively, use pandas read_csv with compression\n",
    "\n",
    "# Decode the bytes into text\n",
    "csv_text = resp.content.decode(\"utf-8-sig\")  # strip BOM if present\n",
    "\n",
    "# Read as plain CSV\n",
    "labs_df = pd.read_csv(StringIO(csv_text))\n",
    "\n",
    "# # Now you have a dataframe with e.g. columns:\n",
    "# # 'caseid', 'age', 'sex', 'opname', plus many others\n",
    "\n",
    "# # Example: show case 1\n",
    "# print(cases_df.loc[cases_df['caseid'] == 1, ['age', 'sex', 'opname']])"
   ]
  },
  {
   "cell_type": "code",
   "execution_count": 9,
   "id": "3ec94e8d",
   "metadata": {},
   "outputs": [],
   "source": [
    "lab_subset = labs_df[labs_df[\"caseid\"].isin(cases)]"
   ]
  },
  {
   "cell_type": "code",
   "execution_count": 10,
   "id": "3b8f0f49",
   "metadata": {},
   "outputs": [
    {
     "data": {
      "text/html": [
       "<div>\n",
       "<style scoped>\n",
       "    .dataframe tbody tr th:only-of-type {\n",
       "        vertical-align: middle;\n",
       "    }\n",
       "\n",
       "    .dataframe tbody tr th {\n",
       "        vertical-align: top;\n",
       "    }\n",
       "\n",
       "    .dataframe thead th {\n",
       "        text-align: right;\n",
       "    }\n",
       "</style>\n",
       "<table border=\"1\" class=\"dataframe\">\n",
       "  <thead>\n",
       "    <tr style=\"text-align: right;\">\n",
       "      <th></th>\n",
       "      <th>caseid</th>\n",
       "      <th>dt</th>\n",
       "      <th>name</th>\n",
       "      <th>result</th>\n",
       "    </tr>\n",
       "  </thead>\n",
       "  <tbody>\n",
       "    <tr>\n",
       "      <th>3546</th>\n",
       "      <td>20</td>\n",
       "      <td>28972</td>\n",
       "      <td>alb</td>\n",
       "      <td>2.10</td>\n",
       "    </tr>\n",
       "    <tr>\n",
       "      <th>3547</th>\n",
       "      <td>20</td>\n",
       "      <td>-703033</td>\n",
       "      <td>alb</td>\n",
       "      <td>2.80</td>\n",
       "    </tr>\n",
       "    <tr>\n",
       "      <th>3548</th>\n",
       "      <td>20</td>\n",
       "      <td>-618583</td>\n",
       "      <td>alb</td>\n",
       "      <td>2.90</td>\n",
       "    </tr>\n",
       "    <tr>\n",
       "      <th>3549</th>\n",
       "      <td>20</td>\n",
       "      <td>48238</td>\n",
       "      <td>alb</td>\n",
       "      <td>2.90</td>\n",
       "    </tr>\n",
       "    <tr>\n",
       "      <th>3550</th>\n",
       "      <td>20</td>\n",
       "      <td>159985</td>\n",
       "      <td>alb</td>\n",
       "      <td>2.90</td>\n",
       "    </tr>\n",
       "    <tr>\n",
       "      <th>...</th>\n",
       "      <td>...</td>\n",
       "      <td>...</td>\n",
       "      <td>...</td>\n",
       "      <td>...</td>\n",
       "    </tr>\n",
       "    <tr>\n",
       "      <th>928443</th>\n",
       "      <td>6388</td>\n",
       "      <td>3503</td>\n",
       "      <td>sao2</td>\n",
       "      <td>100.00</td>\n",
       "    </tr>\n",
       "    <tr>\n",
       "      <th>928444</th>\n",
       "      <td>6388</td>\n",
       "      <td>408770</td>\n",
       "      <td>wbc</td>\n",
       "      <td>3.28</td>\n",
       "    </tr>\n",
       "    <tr>\n",
       "      <th>928445</th>\n",
       "      <td>6388</td>\n",
       "      <td>-32848</td>\n",
       "      <td>wbc</td>\n",
       "      <td>6.27</td>\n",
       "    </tr>\n",
       "    <tr>\n",
       "      <th>928446</th>\n",
       "      <td>6388</td>\n",
       "      <td>-249820</td>\n",
       "      <td>wbc</td>\n",
       "      <td>7.66</td>\n",
       "    </tr>\n",
       "    <tr>\n",
       "      <th>928447</th>\n",
       "      <td>6388</td>\n",
       "      <td>62645</td>\n",
       "      <td>wbc</td>\n",
       "      <td>11.34</td>\n",
       "    </tr>\n",
       "  </tbody>\n",
       "</table>\n",
       "<p>27219 rows × 4 columns</p>\n",
       "</div>"
      ],
      "text/plain": [
       "        caseid      dt  name  result\n",
       "3546        20   28972   alb    2.10\n",
       "3547        20 -703033   alb    2.80\n",
       "3548        20 -618583   alb    2.90\n",
       "3549        20   48238   alb    2.90\n",
       "3550        20  159985   alb    2.90\n",
       "...        ...     ...   ...     ...\n",
       "928443    6388    3503  sao2  100.00\n",
       "928444    6388  408770   wbc    3.28\n",
       "928445    6388  -32848   wbc    6.27\n",
       "928446    6388 -249820   wbc    7.66\n",
       "928447    6388   62645   wbc   11.34\n",
       "\n",
       "[27219 rows x 4 columns]"
      ]
     },
     "execution_count": 10,
     "metadata": {},
     "output_type": "execute_result"
    }
   ],
   "source": [
    "lab_subset"
   ]
  },
  {
   "cell_type": "code",
   "execution_count": 12,
   "id": "b642a21b",
   "metadata": {},
   "outputs": [
    {
     "data": {
      "text/plain": [
       "caseid    0.0\n",
       "dt        0.0\n",
       "name      0.0\n",
       "result    0.0\n",
       "dtype: float64"
      ]
     },
     "execution_count": 12,
     "metadata": {},
     "output_type": "execute_result"
    }
   ],
   "source": [
    "lab_subset.isna().sum() / len(lab_subset) * 100"
   ]
  },
  {
   "cell_type": "code",
   "execution_count": null,
   "id": "19370d81",
   "metadata": {},
   "outputs": [],
   "source": [
    "# lab_subset.to_csv(\"lab_table.csv\", index=False)\n",
    "lab_subset.to_parquet(\"./tables/lab_table.parquet\", index=False)"
   ]
  },
  {
   "cell_type": "markdown",
   "id": "f77cfa19",
   "metadata": {},
   "source": [
    "VitalDB Notes\n",
    "- The time interval is 0.01 seconds\n",
    "- We have three datasets: \n",
    "    - clinical information (cross sectional)\n",
    "    - hemodynamic parameters (time series)\n",
    "    - pre-op lab results (cross sectional)\n",
    "- The most popular surgery types are for cancer\n",
    "\n",
    "PulseDB\n",
    "- derived from VitalDB\n",
    "- https://www.kaggle.com/code/mineshjethva/eda-pulsedb\n",
    "\n",
    "\n",
    "Drug List\n",
    "- amiodarone\n",
    "- dexmedetomidine\n",
    "- dobutamine\n",
    "- dopamine\n",
    "- dilitiazem\n",
    "- epinephrine\n",
    "- futhan\n",
    "- milrinone\n",
    "- norepinephrine\n",
    "- nitroprusside\n",
    "- nitroglycerin\n",
    "- oxytocin\n",
    "- prostaglandin\n",
    "- phenylephrine\n",
    "- propofol\n",
    "- remifentanil\n",
    "- rocuronium\n",
    "- vasopressin\n",
    "- vecuronium\n",
    "\n",
    "Control\n",
    "- Vasopressors: norepinephrine, phenylephrine, vasopressin, epinephrine\n",
    "\n",
    "Outcome\n",
    "- ABP\n",
    "X\n",
    "- ABP\n",
    "- PLETH\n",
    "- CO2\n",
    "- ECG"
   ]
  },
  {
   "cell_type": "markdown",
   "id": "9cc73201",
   "metadata": {},
   "source": [
    "Papers\n",
    "1. https://ieeexplore.ieee.org/abstract/document/10821970\n",
    "- transformer based classifier for intraoperative hypotension (binary outcome)\n",
    "2. https://www.mdpi.com/1424-8220/23/22/9057\n",
    "- measures cardiac output (regression)\n",
    "- uses only two time series as features (PPG and ART)\n",
    "3. https://iris.uniroma1.it/handle/11573/1714175\n",
    "- remote patient monitoring system\n",
    "\n",
    "Notes\n",
    "- a lot of papers in the medical field are binary outcomes\n",
    "- the cancer papers relied on genetics knowledge and were primarily cell based. Drug response is the response of a drug on a cell line"
   ]
  },
  {
   "cell_type": "markdown",
   "id": "40a53d85",
   "metadata": {},
   "source": [
    "             <!-- PAST HISTORY\n",
    "   +--------------------------------+\n",
    "   | ABP  | HR  | SpO2 | EtCO2 | u  |\n",
    "   +--------------------------------+\n",
    "           (T_enc timesteps)\n",
    "                    |\n",
    "                    v\n",
    "                 ENCODER\n",
    "          (summarizes patient state)\n",
    "                    |\n",
    "               hidden state\n",
    "                    |\n",
    "          ------------------------\n",
    "          |                      |\n",
    "          v                      v\n",
    "     DECODER INPUT           DECODER INPUT\n",
    "  (prev ABP + zeros u)     (prev ABP + planned u)\n",
    "          |                      |\n",
    "          v                      v\n",
    "     DECODER STEP 1          DECODER STEP 1\n",
    "          |                      |\n",
    "          v                      v\n",
    "     Pred ABP t+1            Pred ABP t+1\n",
    "          |                      |\n",
    "          v                      v\n",
    "     DECODER STEP 2          DECODER STEP 2\n",
    "          |                      |\n",
    "          v                      v\n",
    "      ...                     ...\n",
    "          |                      |\n",
    "          v                      v\n",
    "     Pred ABP t+H            Pred ABP t+H\n",
    "          |                      |\n",
    "          +----------------------+\n",
    "          |\n",
    "     Compare trajectories:\n",
    "      - With zeros → ABP without intervention\n",
    "      - With planned u → ABP under intervention -->\n"
   ]
  },
  {
   "cell_type": "markdown",
   "id": "997209b6",
   "metadata": {},
   "source": [
    "Use Case\n",
    "- for doctors and nurses in either recovery or urgent care, not for surgery\n",
    "- for remote patient monitoring and as a stop gap in case no one is available then the system will first alert then kick in to administer drugs (last resort system for overloaded hospitals)\n",
    "- good for rural hospitals with limited staff and resources"
   ]
  },
  {
   "cell_type": "markdown",
   "id": "c8ea5f7a",
   "metadata": {},
   "source": []
  },
  {
   "cell_type": "code",
   "execution_count": null,
   "id": "18b944f2",
   "metadata": {},
   "outputs": [],
   "source": [
    "import numpy as np\n",
    "\n",
    "E = np.array([[1, 0, -1], [-3 / 2, 0, 2], [1 / 2, 1, 0]])\n",
    "\n",
    "np.linalg.inv(E) @ np.array([0, 0, 1])"
   ]
  },
  {
   "cell_type": "markdown",
   "id": "20a346c2",
   "metadata": {},
   "source": [
    "## Google Bucket Test"
   ]
  },
  {
   "cell_type": "code",
   "execution_count": null,
   "id": "a0ea7d7b",
   "metadata": {},
   "outputs": [],
   "source": [
    "os.environ[\"GOOGLE_APPLICATION_CREDENTIALS\"] = (\n",
    "    f\"/Users/{os.environ['USER']}/secrets/dosewise-473716-9f4874e812d6.json\"\n",
    ")"
   ]
  },
  {
   "cell_type": "markdown",
   "id": "05bffb4a",
   "metadata": {},
   "source": []
  },
  {
   "cell_type": "code",
   "execution_count": 10,
   "id": "108909d8",
   "metadata": {},
   "outputs": [
    {
     "name": "stdout",
     "output_type": "stream",
     "text": [
      "    id      ART    ECG_II      PLETH  CO2  PHEN_RATE  time\n",
      "0  513      NaN       NaN        NaN  NaN        NaN     1\n",
      "1  513  5.01471  0.622872  30.839600  0.0        NaN     2\n",
      "2  513  5.01471  0.741367  74.682701  0.0        NaN     3\n",
      "3  513  5.01471  0.069896  37.554298  0.0        NaN     4\n",
      "4  513  5.01471  0.198266  54.933601  0.0        NaN     5\n"
     ]
    }
   ],
   "source": [
    "import pandas as pd\n",
    "\n",
    "bucket_name = \"dosewisedb\"\n",
    "file_path_in_bucket = \"hemodyn_table\"\n",
    "\n",
    "# Directly read from GCS\n",
    "df = pd.read_parquet(f\"gs://{bucket_name}/{file_path_in_bucket}\")\n",
    "\n",
    "print(df.head())"
   ]
  },
  {
   "cell_type": "code",
   "execution_count": 11,
   "id": "a200bf72",
   "metadata": {},
   "outputs": [
    {
     "data": {
      "text/plain": [
       "<Axes: >"
      ]
     },
     "execution_count": 11,
     "metadata": {},
     "output_type": "execute_result"
    },
    {
     "data": {
      "image/png": "[encoded data removed]",
      "text/plain": [
       "<Figure size 640x480 with 1 Axes>"
      ]
     },
     "metadata": {},
     "output_type": "display_data"
    }
   ],
   "source": [
    "df[\"ART\"].dropna().plot()"
   ]
  }
 ],
 "metadata": {
  "kernelspec": {
   "display_name": "cs109b",
   "language": "python",
   "name": "python3"
  },
  "language_info": {
   "codemirror_mode": {
    "name": "ipython",
    "version": 3
   },
   "file_extension": ".py",
   "mimetype": "text/x-python",
   "name": "python",
   "nbconvert_exporter": "python",
   "pygments_lexer": "ipython3",
   "version": "3.12.8"
  }
 },
 "nbformat": 4,
 "nbformat_minor": 5
}
